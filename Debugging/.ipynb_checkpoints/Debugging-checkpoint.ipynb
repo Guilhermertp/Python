{
 "cells": [
  {
   "cell_type": "markdown",
   "metadata": {},
   "source": [
    "# *Automate the Boring Stuff with Python*\n",
    "\n",
    "Link with the book content and some other helpfull material :-)\n",
    "https://automatetheboringstuff.com/2e/chapter11/"
   ]
  },
  {
   "cell_type": "markdown",
   "metadata": {},
   "source": [
    "# The raise and assert Statements"
   ]
  },
  {
   "cell_type": "code",
   "execution_count": null,
   "metadata": {},
   "outputs": [],
   "source": [
    "#this is the output we want\n",
    "\n",
    "\"\"\"\n",
    "*************\n",
    "*           *\n",
    "*           *\n",
    "*           *\n",
    "*************\n",
    "\n",
    "\"\"\"\n",
    "\n",
    "#function to print the output above, the symbol we can define anyone char or num\n",
    "def boxPrint(symbol, width, height):\n",
    "    print(symbol * width)\n",
    "    \n",
    "    for i in range(height - 2):\n",
    "        print(symbol + (' '* (width - 2)) + symbol)\n",
    "        \n",
    "    print(symbol * width)\n",
    "    \n",
    "boxPrint('*',15, 5)\n",
    "\n",
    "boxPrint('o',15, 5)\n",
    "        "
   ]
  },
  {
   "cell_type": "code",
   "execution_count": null,
   "metadata": {},
   "outputs": [],
   "source": [
    "# the output above is correct but if we use two symbols there is no error but\n",
    "#it is the wrong output\n",
    "boxPrint('**',15, 5)"
   ]
  },
  {
   "cell_type": "code",
   "execution_count": null,
   "metadata": {},
   "outputs": [],
   "source": [
    "#to detect the situations where the output is not what we want\n",
    "def boxPrint(symbol, width, height):\n",
    "    if len(symbol) != 1: #make sure the symbol have the right length\n",
    "        raise Exception('\"symbol\" need to be a string o lenght one')\n",
    "    if(width < 2) or (height < 2):\n",
    "        raise Exception('\"width\" and \"height\" must be greater or equal to 2.')\n",
    "        \n",
    "    print(symbol * width)\n",
    "    \n",
    "    for i in range(height - 2):\n",
    "        print(symbol + (' '* (width - 2)) + symbol)\n",
    "        \n",
    "    print(symbol * width)"
   ]
  },
  {
   "cell_type": "code",
   "execution_count": null,
   "metadata": {},
   "outputs": [],
   "source": [
    "boxPrint('*',1, 1)"
   ]
  },
  {
   "cell_type": "code",
   "execution_count": null,
   "metadata": {},
   "outputs": [],
   "source": [
    "boxPrint('**',15, 4)"
   ]
  },
  {
   "cell_type": "code",
   "execution_count": null,
   "metadata": {},
   "outputs": [],
   "source": [
    "# save the errors in a log in the current working directory\n",
    "\n",
    "import traceback\n",
    "try:\n",
    "    raise Exception('This is the error message.')\n",
    "except:\n",
    "    errorFile = open('error_log.txt', 'a') #in append mode\n",
    "    errorFile.write(traceback.format_exc())\n",
    "    errorFile.close()\n",
    "    print('The traceback info was writeen error_log.txt')"
   ]
  },
  {
   "cell_type": "code",
   "execution_count": null,
   "metadata": {},
   "outputs": [],
   "source": [
    "# another way of control if the assertion condition is False it\n",
    "# raises an error and the execution of the program stops\n",
    "assert False, 'This is the error message.'"
   ]
  },
  {
   "cell_type": "code",
   "execution_count": null,
   "metadata": {},
   "outputs": [],
   "source": [
    "market_2nd = {'ns': 'green', 'ew': 'red'}"
   ]
  },
  {
   "cell_type": "code",
   "execution_count": null,
   "metadata": {},
   "outputs": [],
   "source": [
    "def switchLights(stoplight):\n",
    "    for key in stoplight.keys():\n",
    "        if stoplight[key] == 'green':\n",
    "            stoplight[key] = 'yellow'\n",
    "        elif stoplight[key] == 'yellow':\n",
    "            stoplight[key] = 'red'\n",
    "        elif stoplight[key] == 'red':\n",
    "            stoplight[key] = 'green'\n",
    "    assert 'red' in stoplight.values(), 'Neither light is red! ' + str(stoplight)\n",
    "\n",
    "switchLights(market_2nd)"
   ]
  },
  {
   "cell_type": "code",
   "execution_count": null,
   "metadata": {},
   "outputs": [],
   "source": [
    "print(market_2nd)"
   ]
  },
  {
   "cell_type": "markdown",
   "metadata": {},
   "source": [
    "You can raise your own exceptions: raise Exception(‘This is the error message.')\n",
    "You can also use assertions: assert condition, ‘Error message'\n",
    "Assertions are for detecting programmer errors that are not meant to be recovered from. User errors should raise exceptions."
   ]
  },
  {
   "cell_type": "markdown",
   "metadata": {},
   "source": [
    "# Logging"
   ]
  },
  {
   "cell_type": "code",
   "execution_count": null,
   "metadata": {},
   "outputs": [],
   "source": [
    "import logging\n",
    "logging.basicConfig(level=logging.DEBUG, format=' %(asctime)s -  %(levelname)s -  %(message)s')"
   ]
  },
  {
   "cell_type": "code",
   "execution_count": null,
   "metadata": {},
   "outputs": [],
   "source": [
    "logging.debug('Start of program')\n",
    "\n",
    "def factorial(n):\n",
    "    logging.debug('Start of factorial(%s)' % (n))\n",
    "    total = 1\n",
    "    for i in range(n+1):\n",
    "        total *= i\n",
    "        logging.debug('i is %s, total is %s' % (i, total))\n",
    "        \n",
    "    logging.debug('Return value is %s' % (total))\n",
    "    return total\n",
    "print(factorial(5))\n",
    "\n",
    "logging.debug('End of program')\n",
    "    "
   ]
  },
  {
   "cell_type": "code",
   "execution_count": null,
   "metadata": {},
   "outputs": [],
   "source": [
    "# the proble is in this line :\n",
    "# for i in range(n+1):  because the range starts in zero we are multiplying by zero\n",
    "\n",
    "\n",
    "logging.disable(logging.CRITICAL)#disables all the messages at he higher level and lower level that is the critical\n",
    "\n",
    "logging.debug('Start of program')\n",
    "\n",
    "def factorial(n):\n",
    "    logging.debug('Start of factorial(%s)' % (n))\n",
    "    total = 1\n",
    "    for i in range(1,n+1): #now is corrected\n",
    "        total *= i\n",
    "        logging.debug('i is %s, total is %s' % (i, total))\n",
    "        \n",
    "    logging.debug('Return value is %s' % (total))\n",
    "    return total\n",
    "print(factorial(5))\n",
    "\n",
    "logging.debug('End of program')"
   ]
  },
  {
   "cell_type": "code",
   "execution_count": null,
   "metadata": {},
   "outputs": [],
   "source": [
    "#to write the error log to a file change the first line and put the paramater filename = 'name of log file.txt'\n",
    "logging.basicConfig(level=logging.DEBUG, format=' %(asctime)s -  %(levelname)s -  %(message)s',filename='logs.txt',force = True)\n",
    "\n",
    "\"\"\"The code above creates a file put it doesn't write in it if we run a python script with this code with will create and write without using the force = True\n",
    "Logging to a File.py\"\"\"\n",
    "\n",
    "#logging.disable(logging.CRITICAL)#disables all the messages at he higher level and lower level that is the critical\n",
    "\n",
    "logging.debug('Start of program')\n",
    "\n",
    "def factorial(n):\n",
    "    logging.debug('Start of factorial(%s)' % (n))\n",
    "    total = 1\n",
    "    for i in range(1,n+1): #now is corrected\n",
    "        total *= i\n",
    "        logging.debug('i is %s, total is %s' % (i, total))\n",
    "        \n",
    "    logging.debug('Return value is %s' % (total))\n",
    "    return total\n",
    "print(factorial(5))\n",
    "\n",
    "logging.debug('End of program')"
   ]
  },
  {
   "cell_type": "markdown",
   "metadata": {},
   "source": [
    "The logging module lets you display logging messages.\n",
    "Log messages create a \"breadcrumb trail\" of what your program is doing.\n",
    "After calling logging.basicConfig() to set up logging, call logging.debug(‘This is the message') to create a log message.\n",
    "When done, you can disable the log messages with logging.disable(logging.CRITICAL)\n",
    "Don't use print() for log messages: It's hard to remove the mall when you're done debugging.\n",
    "The five log levels are: DEBUG, INFO, WARNING, ERROR, and CRITICAL.\n",
    "You can also log to a file instead of the screen with the filename keyword argument in the logging.basicConfig() function."
   ]
  },
  {
   "cell_type": "markdown",
   "metadata": {},
   "source": [
    "# Using the Debugger"
   ]
  },
  {
   "cell_type": "markdown",
   "metadata": {},
   "source": [
    "The debugger is a feature of Python IDLE Shell(**Figure 1**) or the Mu editor, IDLE, and other editor software that allows you to execute your program one line at a time. The debugger will run a single line of code and then wait for you to tell it to continue. By running your program “under the debugger” like this, you can take as much time as you want to examine the values in the variables at any given point during the program’s lifetime. This is a valuable tool for tracking down bugs.\n",
    "\n",
    "To run a program under Mu’s debugger, click the Debug button in the top row of buttons, next to the Run button. Along with the usual output pane at the bottom, the Debug Inspector pane will open along the right side of the window. This pane lists the current value of variables in your program. In **Figure 2**, the debugger has paused the execution of the program just before it would have run the first line of code. You can see this line highlighted in the file editor."
   ]
  },
  {
   "cell_type": "markdown",
   "metadata": {},
   "source": [
    "<img src=\"./open_debug.png\" width=\"500\">\n",
    "<h1><font size=\"2\"><center>Figure 1:   Python IDLE Shell</center><font></h1>"
   ]
  },
  {
   "cell_type": "markdown",
   "metadata": {},
   "source": [
    "<img src=\"./figure11.jpg\" width=\"500\">\n",
    "<h1><font size=\"2\"><center>Figure 2:  Mu running a program under the debugger</center><font></h1>"
   ]
  },
  {
   "cell_type": "markdown",
   "metadata": {},
   "source": [
    "Debugging mode also adds the following new buttons to the top of the editor: **Continue, Step Over, Step In, and Step Out**. The usual Stop button is also available."
   ]
  },
  {
   "cell_type": "markdown",
   "metadata": {},
   "source": [
    "## Continue"
   ]
  },
  {
   "cell_type": "markdown",
   "metadata": {},
   "source": [
    "Clicking the Continue button will cause the program to execute normally until it terminates or reaches a breakpoint. (I will describe breakpoints later in this chapter.) If you are done debugging and want the program to continue normally, click the Continue button."
   ]
  },
  {
   "cell_type": "markdown",
   "metadata": {},
   "source": [
    "## Step In"
   ]
  },
  {
   "cell_type": "markdown",
   "metadata": {},
   "source": [
    "Clicking the Step In button will cause the debugger to execute the next line of code and then pause again. If the next line of code is a function call, the debugger will “step into” that function and jump to the first line of code of that function."
   ]
  },
  {
   "cell_type": "markdown",
   "metadata": {},
   "source": [
    "## Step Over"
   ]
  },
  {
   "cell_type": "markdown",
   "metadata": {},
   "source": [
    "Clicking the Step Over button will execute the next line of code, similar to the Step In button. However, if the next line of code is a function call, the Step Over button will “step over” the code in the function. The function’s code will be executed at full speed, and the debugger will pause as soon as the function call returns. For example, if the next line of code calls a spam() function but you don’t really care about code inside this function, you can click Step Over to execute the code in the function at normal speed, and then pause when the function returns. For this reason, using the Over button is more common than using the Step In button."
   ]
  },
  {
   "cell_type": "markdown",
   "metadata": {},
   "source": [
    "## Step Out"
   ]
  },
  {
   "cell_type": "markdown",
   "metadata": {},
   "source": [
    "Clicking the Step Out button will cause the debugger to execute lines of code at full speed until it returns from the current function. If you have stepped into a function call with the Step In button and now simply want to keep executing instructions until you get back out, click the Out button to “step out” of the current function call."
   ]
  },
  {
   "cell_type": "markdown",
   "metadata": {},
   "source": [
    "## Stop"
   ]
  },
  {
   "cell_type": "markdown",
   "metadata": {},
   "source": [
    "If you want to stop debugging entirely and not bother to continue executing the rest of the program, click the Stop button. The Stop button will immediately terminate the program."
   ]
  },
  {
   "cell_type": "markdown",
   "metadata": {},
   "source": [
    "The debugger is a tool that lets you execute Python code one instruction at a time and shows you the values in variables.\n",
    "Open the Debug Control window with Debug > Debugger before running the program.\n",
    "The Over button will step over the current line of code and pause on the next one.\n",
    "The Step button will step into a function call.\n",
    "The Out button will step out of the current function you are in.\n",
    "The Go button will continue the program until the next breakpoint or until the end of the program if there are no breakpoints.\n",
    "The Quit button will immediately terminate the program.\n",
    "Breakpoints are lines where the debugger will pause and let you choose when to continue running the program.\n",
    "Breakpoints can be set by right-clicking the file editor window and selecting \"Set Breakpoint\""
   ]
  },
  {
   "cell_type": "markdown",
   "metadata": {},
   "source": [
    "# Practice Questions\n",
    "1. Write an assert statement that triggers an AssertionError if the variable spam is an integer less than 10.\n",
    "\n",
    "2. Write an assert statement that triggers an AssertionError if the variables eggs and bacon contain strings that are the same as each other, even if their cases are different (that is, 'hello' and 'hello' are considered the same, and 'goodbye' and 'GOODbye' are also considered the same).\n",
    "\n",
    "3. Write an assert statement that always triggers an AssertionError.\n",
    "\n",
    "4. What are the two lines that your program must have in order to be able to call logging.debug()?\n",
    "\n",
    "5. What are the two lines that your program must have in order to have logging.debug() send a logging message to a file named programLog.txt?\n",
    "\n",
    "6. What are the five logging levels?\n",
    "\n",
    "7. What line of code can you add to disable all logging messages in your program?\n",
    "\n",
    "8. Why is using logging messages better than using print() to display the same message?\n",
    "\n",
    "9. What are the differences between the Step Over, Step In, and Step Out buttons in the debugger?\n",
    "\n",
    "10. After you click Continue, when will the debugger stop?\n",
    "\n",
    "11. What is a breakpoint?\n",
    "\n",
    "12. How do you set a breakpoint on a line of code in Mu?"
   ]
  },
  {
   "cell_type": "code",
   "execution_count": null,
   "metadata": {},
   "outputs": [],
   "source": [
    "#1. Write an assert statement that triggers an AssertionError if the variable spam is an integer less than 10.\n",
    "\n",
    "def int_input(spam):\n",
    "    if spam < 10:\n",
    "        print(spam)\n",
    "    assert spam >10 ,\"spam should be an integer higher then 10\"\n",
    "\n",
    "int_input(5)"
   ]
  },
  {
   "cell_type": "code",
   "execution_count": null,
   "metadata": {},
   "outputs": [],
   "source": [
    "#2. Write an assert statement that triggers an AssertionError if the variables eggs and bacon contain strings that\n",
    "#are the same as each other, even if their cases are \n",
    "#different (that is, 'hello' and 'hello' are considered the same, and 'goodbye' and 'GOODbye' are also considered the same).\n",
    "\n",
    "def breakfast(eggs,bacon):\n",
    "    if eggs != bacon:\n",
    "        print('Balanced breakfast')\n",
    "    else:\n",
    "        print('More of the same')\n",
    "    assert (eggs.lower()) != (bacon.lower()) , 'the variables eggs and bacon should be different strings'\n",
    "\n",
    "breakfast('eggs','Eggs')\n"
   ]
  },
  {
   "cell_type": "code",
   "execution_count": null,
   "metadata": {},
   "outputs": [],
   "source": [
    "#3. Write an assert statement that always triggers an AssertionError.\n",
    "assert False, 'statement that always triggers an AssertionError'"
   ]
  },
  {
   "cell_type": "code",
   "execution_count": null,
   "metadata": {},
   "outputs": [],
   "source": [
    "#4. What are the two lines that your program must have in order to be able to call logging.debug()?\n",
    "import logging\n",
    "logging.basicConfig(level = logging.DEBUG,format = \"%(asctime)s - %(levelname)s - %(message)s\")"
   ]
  },
  {
   "cell_type": "code",
   "execution_count": null,
   "metadata": {},
   "outputs": [],
   "source": [
    "#5. What are the two lines that your program must have in order to have logging.debug()\n",
    "#send a logging message to a file named programLog.txt?\n",
    "import logging\n",
    "logging.basicConfig(filename = 'programLog.txt', level = logging.DEBUG, format = \"%(asctime)s - %(levelname)s - %(message)s\")"
   ]
  },
  {
   "cell_type": "code",
   "execution_count": null,
   "metadata": {},
   "outputs": [],
   "source": [
    "#6. What are the five logging levels?\n",
    "DEBUG, INFO ,WARNING, ERROR, CRITICAL"
   ]
  },
  {
   "cell_type": "code",
   "execution_count": null,
   "metadata": {},
   "outputs": [],
   "source": [
    "#7. What line of code can you add to disable all logging messages in your program?\n",
    "logging.disable(logging.CRITICAL)"
   ]
  },
  {
   "cell_type": "code",
   "execution_count": null,
   "metadata": {},
   "outputs": [],
   "source": [
    "#8. Why is using logging messages better than using print() to display the same message?\n",
    "\n",
    "#I can use one line of code to disable all the logging messages, and it can be done by levels, chosing only the levels that i want to apear \n",
    "#on the screen"
   ]
  },
  {
   "cell_type": "code",
   "execution_count": null,
   "metadata": {},
   "outputs": [],
   "source": [
    "#9. What are the differences between the Step Over, Step In, and Step Out buttons in the debugger?"
   ]
  },
  {
   "cell_type": "code",
   "execution_count": null,
   "metadata": {},
   "outputs": [],
   "source": [
    "#10. After you click Continue, when will the debugger stop?\n",
    "\n",
    "#when the program terminates or reaches a breakpoint"
   ]
  },
  {
   "cell_type": "code",
   "execution_count": null,
   "metadata": {},
   "outputs": [],
   "source": [
    "#11. What is a breakpoint?\n",
    "\n",
    "#A breakpoint is a point set on a specific line of code that  forces the debugger to pause \n",
    "#whenever the program execution reaches that line"
   ]
  },
  {
   "cell_type": "code",
   "execution_count": null,
   "metadata": {},
   "outputs": [],
   "source": [
    "#12. How do you set a breakpoint on a line of code in Mu?\n",
    "\n",
    "#To set a breakpoint, click the line number in the file editor to cause a red dot to appear, \n",
    "#marking the breakpoint like in Figure 3."
   ]
  },
  {
   "cell_type": "markdown",
   "metadata": {},
   "source": [
    "<img src=\"././break4.jpg\" width=\"500\">\n",
    "<h1><font size=\"2\"><center>Figure 3:  red dot marking the breakpoint  </center><font></h1>"
   ]
  },
  {
   "cell_type": "markdown",
   "metadata": {},
   "source": [
    "# Practice Project\n",
    "For practice, write a program that does the following.\n",
    "\n",
    "Debugging Coin Toss\n",
    "The following program is meant to be a simple coin toss guessing game. The player gets two guesses (it’s an easy game). However, the program has several bugs in it. Run through the program a few times to find the bugs that keep the program from working correctly."
   ]
  },
  {
   "cell_type": "code",
   "execution_count": null,
   "metadata": {},
   "outputs": [],
   "source": [
    "import random\n",
    "guess = ''\n",
    "while guess not in ('heads', 'tails'):\n",
    "    print('Guess the coin toss! Enter heads or tails:')\n",
    "    guess = input()\n",
    "toss = random.randint(0, 1) # 0 is tails, 1 is heads\n",
    "if toss == guess:\n",
    "    print('You got it!')\n",
    "else:\n",
    "    print('Nope! Guess again!')\n",
    "    guesss = input()\n",
    "    if toss == guess:\n",
    "        print('You got it!')\n",
    "    else:\n",
    "        print('Nope. You are really bad at this game.')"
   ]
  },
  {
   "cell_type": "code",
   "execution_count": null,
   "metadata": {},
   "outputs": [],
   "source": []
  }
 ],
 "metadata": {
  "kernelspec": {
   "display_name": "Python 3",
   "language": "python",
   "name": "python3"
  },
  "language_info": {
   "codemirror_mode": {
    "name": "ipython",
    "version": 3
   },
   "file_extension": ".py",
   "mimetype": "text/x-python",
   "name": "python",
   "nbconvert_exporter": "python",
   "pygments_lexer": "ipython3",
   "version": "3.8.5"
  }
 },
 "nbformat": 4,
 "nbformat_minor": 4
}
