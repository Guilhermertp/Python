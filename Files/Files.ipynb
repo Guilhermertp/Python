{
 "cells": [
  {
   "cell_type": "markdown",
   "metadata": {},
   "source": [
    "# Copying and Moving Files and Folders"
   ]
  },
  {
   "cell_type": "code",
   "execution_count": 2,
   "metadata": {},
   "outputs": [],
   "source": [
    "# shell utilities module has functions that let you copy move rename and delete files in your Python\n",
    "import shutil"
   ]
  },
  {
   "cell_type": "markdown",
   "metadata": {},
   "source": [
    "Manually create in the current working directory : \n",
    "* Folder called Hello \n",
    "* Folder called Delete\n",
    "* File called banana.txt \n",
    "* File called Hello.txt \n"
   ]
  },
  {
   "cell_type": "code",
   "execution_count": 3,
   "metadata": {},
   "outputs": [
    {
     "data": {
      "text/plain": [
       "'Hello\\\\Hello.txt'"
      ]
     },
     "execution_count": 3,
     "metadata": {},
     "output_type": "execute_result"
    }
   ],
   "source": [
    "#copy a file to a new folder so we can type as you tell that copy and then specify one\n",
    "#the file is located in the same place as the jupyter notebook and there is a folder called Hello\n",
    "#this creates a copy inside the folder Hello\n",
    "shutil.copy('Hello.txt','Hello\\Hello.txt')\n"
   ]
  },
  {
   "cell_type": "code",
   "execution_count": 4,
   "metadata": {},
   "outputs": [
    {
     "data": {
      "text/plain": [
       "'Hello\\\\HelloHello.txt'"
      ]
     },
     "execution_count": 4,
     "metadata": {},
     "output_type": "execute_result"
    }
   ],
   "source": [
    "#copy and rename at the same time\n",
    "shutil.copy('Hello.txt','Hello\\HelloHello.txt')"
   ]
  },
  {
   "cell_type": "code",
   "execution_count": 5,
   "metadata": {},
   "outputs": [
    {
     "data": {
      "text/plain": [
       "'Hello_backup'"
      ]
     },
     "execution_count": 5,
     "metadata": {},
     "output_type": "execute_result"
    }
   ],
   "source": [
    "#copy a folder and all the files inside the folder i'm going to create a folder\n",
    "#called Hello_backup\n",
    "shutil.copytree('Hello','Hello_backup')"
   ]
  },
  {
   "cell_type": "code",
   "execution_count": 6,
   "metadata": {},
   "outputs": [
    {
     "data": {
      "text/plain": [
       "'Hello\\\\banana.txt'"
      ]
     },
     "execution_count": 6,
     "metadata": {},
     "output_type": "execute_result"
    }
   ],
   "source": [
    "#move a file to a new location, the first string is the file i want to move\n",
    "#it moves the file banana to the folder Hello\n",
    "shutil.move('banana.txt','Hello')"
   ]
  },
  {
   "cell_type": "code",
   "execution_count": 7,
   "metadata": {},
   "outputs": [
    {
     "data": {
      "text/plain": [
       "'Hello\\\\peach.txt'"
      ]
     },
     "execution_count": 7,
     "metadata": {},
     "output_type": "execute_result"
    }
   ],
   "source": [
    "#shutil don't have a rename function, to rename use the move function and\n",
    "#move it to the same folder where the file was and give it a new name\n",
    "#Note:it was giving an erro i had to add one more backslash in each string\n",
    "shutil.move('Hello\\\\banana.txt','Hello\\\\peach.txt')"
   ]
  },
  {
   "cell_type": "markdown",
   "metadata": {},
   "source": [
    "# Deleting Files"
   ]
  },
  {
   "cell_type": "code",
   "execution_count": 8,
   "metadata": {},
   "outputs": [
    {
     "data": {
      "text/plain": [
       "'C:\\\\Users\\\\guilh\\\\Python'"
      ]
     },
     "execution_count": 8,
     "metadata": {},
     "output_type": "execute_result"
    }
   ],
   "source": [
    "import os\n",
    "\n",
    "#get the current working directory\n",
    "os.getcwd()"
   ]
  },
  {
   "cell_type": "code",
   "execution_count": 11,
   "metadata": {},
   "outputs": [],
   "source": [
    "#deletes a single file\n",
    "os.unlink('Hello\\\\peach.txt')\n",
    "\n",
    "#deletes an entire folder but it need to be empty\n",
    "os.rmdir('Delete')"
   ]
  },
  {
   "cell_type": "code",
   "execution_count": 12,
   "metadata": {},
   "outputs": [],
   "source": [
    "#i'm importing again just to simulate i'm writing in the python terminal\n",
    "import shutil\n",
    "\n",
    "#deletes the folder and all the content inside the folder\n",
    "#WARNING!!! this function deletes permanently without sending to the recycling bin\n",
    "shutil.rmtree('Hello')"
   ]
  },
  {
   "cell_type": "code",
   "execution_count": 13,
   "metadata": {},
   "outputs": [
    {
     "name": "stdout",
     "output_type": "stream",
     "text": [
      "Hello.txt\n"
     ]
    }
   ],
   "source": [
    "#i'm importing again just to simulate i'm writing in the python terminal or a new script\n",
    "\n",
    "#Because the deleting commands like rmtree and unlink are dangerous, they can delete\n",
    "#permanently the worng files it is best practice to do a DRY RUN\n",
    "#(A dry run (or a practice run) is a testing process where the effects of a possible failure are intentionally mitigated)\n",
    "\n",
    "\n",
    "#i'm importing again just to simulate i'm writing in the python terminal\n",
    "import os\n",
    "\n",
    "#get a list of files that follow a certain condition in this case end with the extension txt\n",
    "for filename in os.listdir():\n",
    "    if filename.endswith('.txt'):\n",
    "        print(filename)\n",
    "        \n"
   ]
  },
  {
   "cell_type": "markdown",
   "metadata": {},
   "source": [
    "## For safety it is better to install a module that allows to send the files to the recycling bin"
   ]
  },
  {
   "cell_type": "code",
   "execution_count": 14,
   "metadata": {},
   "outputs": [
    {
     "name": "stdout",
     "output_type": "stream",
     "text": [
      "Requirement already satisfied: send2trash in c:\\programdata\\anaconda3\\lib\\site-packages (1.5.0)\n",
      "Note: you may need to restart the kernel to use updated packages.\n"
     ]
    }
   ],
   "source": [
    "pip install send2trash"
   ]
  },
  {
   "cell_type": "code",
   "execution_count": 15,
   "metadata": {},
   "outputs": [],
   "source": [
    "import send2trash\n",
    "\n",
    "#delete a file but not permanently. it will got to the recycling bin\n",
    "send2trash.send2trash('Hello.txt')"
   ]
  },
  {
   "cell_type": "markdown",
   "metadata": {},
   "source": [
    "# Walking a Directory Tree"
   ]
  },
  {
   "cell_type": "code",
   "execution_count": 16,
   "metadata": {},
   "outputs": [
    {
     "name": "stdout",
     "output_type": "stream",
     "text": [
      "The folder is: Hello_backup\n",
      "The subfolders in Hello_backup are: []\n",
      "The subfolders in Hello_backup are: ['Hello.txt', 'HelloHello.txt']\n"
     ]
    }
   ],
   "source": [
    "import os\n",
    "\n",
    "#get the folder,files,subfolders and files\n",
    "for folderName, subfolders, filenames in os.walk('Hello_backup'):\n",
    "    print('The folder is: ' +folderName)\n",
    "    print('The subfolders in '+folderName+' are: '+str(subfolders))\n",
    "    print('The subfolders in '+folderName+' are: '+str(filenames))"
   ]
  },
  {
   "cell_type": "markdown",
   "metadata": {},
   "source": [
    "Ssing this OS walk fold function allows us to write code where we can perform some sort of\n",
    "\n",
    "action or run some code against all of the folders or file names underneath a certain folder. When we have thousands of folders and files with would take forever to manually change each file based on a certain condition.\n",
    "\n",
    "Using the os.walk allows to automate the task :)"
   ]
  },
  {
   "cell_type": "code",
   "execution_count": 17,
   "metadata": {},
   "outputs": [],
   "source": [
    "#remove all the files with the extension txt\n",
    "for folderName, subfolders, filenames in os.walk('Hello_backup'):\n",
    "    for file in filenames:\n",
    "        if file.endswith('.txt'):\n",
    "            #this line is essencial for the remove to work,WARNING THIS IS A DEFINITIVE REMOVALL!!\n",
    "            os.remove(os.path.join(folderName, file))"
   ]
  },
  {
   "cell_type": "code",
   "execution_count": 18,
   "metadata": {},
   "outputs": [
    {
     "name": "stdout",
     "output_type": "stream",
     "text": [
      "The folder is: Hello_backup\n",
      "The subfolders in Hello_backup are: []\n",
      "The subfolders in Hello_backup are: []\n"
     ]
    }
   ],
   "source": [
    "#get the folder,files,subfolders and files\n",
    "for folderName, subfolders, filenames in os.walk('Hello_backup'):\n",
    "    print('The folder is: ' +folderName)\n",
    "    print('The subfolders in '+folderName+' are: '+str(subfolders))\n",
    "    print('The subfolders in '+folderName+' are: '+str(filenames))"
   ]
  },
  {
   "cell_type": "markdown",
   "metadata": {},
   "source": [
    "When  you  use os.walk it returns values in a for loop and that returns three different values\n",
    "\n",
    "on each iteration.\n",
    "\n",
    "The folder name of the current folder it's looking at all of the subfolder is a list of strings for\n",
    "\n",
    "the sub folders inside this folder and also a list of strings for the file names inside that folder\n",
    "\n",
    "."
   ]
  },
  {
   "cell_type": "code",
   "execution_count": null,
   "metadata": {},
   "outputs": [],
   "source": []
  }
 ],
 "metadata": {
  "kernelspec": {
   "display_name": "Python 3",
   "language": "python",
   "name": "python3"
  },
  "language_info": {
   "codemirror_mode": {
    "name": "ipython",
    "version": 3
   },
   "file_extension": ".py",
   "mimetype": "text/x-python",
   "name": "python",
   "nbconvert_exporter": "python",
   "pygments_lexer": "ipython3",
   "version": "3.8.5"
  }
 },
 "nbformat": 4,
 "nbformat_minor": 4
}
